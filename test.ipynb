{
 "cells": [
  {
   "cell_type": "code",
   "execution_count": 55,
   "metadata": {},
   "outputs": [],
   "source": [
    "class DefaultAttributes:\n",
    "    def __init__(self):\n",
    "        self.attributes = {}\n",
    "        \n",
    "    def __getattr__(self, name):\n",
    "        # 존재하지 않는 속성에 대한 기본 값을 반환하거나, 로그를 기록할 수 있습니다.\n",
    "        return self.attributes.get(name, f\"{name} 속성은 존재하지 않습니다.\")\n",
    "    \n",
    "    def __setattr__(self, name, value):\n",
    "        if name == \"attributes\":\n",
    "            print(f\"__setattr__ called : {name} = {value}\")\n",
    "            super().__setattr__(name, value)\n",
    "        else:\n",
    "            print(f\"Setting Value : {name} = {value}\")\n",
    "            self.attributes[name] = value"
   ]
  },
  {
   "cell_type": "code",
   "execution_count": 56,
   "metadata": {},
   "outputs": [
    {
     "name": "stdout",
     "output_type": "stream",
     "text": [
      "__setattr__ called : attributes = {}\n"
     ]
    }
   ],
   "source": [
    "obj = DefaultAttributes()"
   ]
  },
  {
   "cell_type": "code",
   "execution_count": 57,
   "metadata": {},
   "outputs": [
    {
     "data": {
      "text/plain": [
       "{'attributes': {}}"
      ]
     },
     "execution_count": 57,
     "metadata": {},
     "output_type": "execute_result"
    }
   ],
   "source": [
    "obj.__dict__"
   ]
  },
  {
   "cell_type": "code",
   "execution_count": 58,
   "metadata": {},
   "outputs": [
    {
     "data": {
      "text/plain": [
       "'color 속성은 존재하지 않습니다.'"
      ]
     },
     "execution_count": 58,
     "metadata": {},
     "output_type": "execute_result"
    }
   ],
   "source": [
    "obj.color"
   ]
  },
  {
   "cell_type": "code",
   "execution_count": 59,
   "metadata": {},
   "outputs": [
    {
     "data": {
      "text/plain": [
       "{'attributes': {}}"
      ]
     },
     "execution_count": 59,
     "metadata": {},
     "output_type": "execute_result"
    }
   ],
   "source": [
    "obj.__dict__"
   ]
  },
  {
   "cell_type": "code",
   "execution_count": 60,
   "metadata": {},
   "outputs": [
    {
     "name": "stdout",
     "output_type": "stream",
     "text": [
      "Setting Value : color = red\n"
     ]
    },
    {
     "data": {
      "text/plain": [
       "{'attributes': {'color': 'red'}}"
      ]
     },
     "execution_count": 60,
     "metadata": {},
     "output_type": "execute_result"
    }
   ],
   "source": [
    "obj.color = 'red'\n",
    "obj.__dict__"
   ]
  },
  {
   "cell_type": "code",
   "execution_count": 83,
   "metadata": {},
   "outputs": [],
   "source": [
    "class Proxy:\n",
    "    def __init__(self, obj):\n",
    "        self._obj = obj\n",
    "    \n",
    "    # 자신에게 없는 속성을 접근했을 때, 호출됨.    \n",
    "    def __getattr__(self, name):\n",
    "        # 동적으로 속성을 생성하거나 기본 값을 제공할 수 있음.\n",
    "        # 속성 접근 시 자동으로 처리할 수 있는 추가 로직을 삽입 기능 (예: 로그 기록, 기본값 설정)\n",
    "        print(f\"Proxy.__getattr__(name={name})\")\n",
    "        return getattr(self._obj, name)\n",
    "    \n",
    "    # 자신에게 있던 없든 관계없이 무조건 호출됨.\n",
    "    # 만약, 이름이 밑줄\"_\"로 시작하면, super()를 사용해서 __setter__() 원래의 구현을 호출한다.\n",
    "    def __setattr__(self, name, value):\n",
    "        if name.startswith(\"_\"):\n",
    "            print(f\"Proxy.__setattr__(name={name}, value={value})\")\n",
    "            # __setter__()구현에서 이름 확인이 들어 있다. 만약 이름이 밑줄로 시작하면 super()를 사용해서 __setter__()의 원래 구현을 호출한다.\n",
    "            super().__setattr__(name, value) \n",
    "            # self._obj = obj 호출 시 부모의 __setattr__ 함수 호출 필요!\n",
    "            # 특별 메소드를 오버라이드 한 코드에서 super()를 사용하기도 한다.\n",
    "        else:\n",
    "            print(f\"Setting Object {name} = {value}\")\n",
    "            setattr(self._obj, name, value)\n",
    "         \n"
   ]
  },
  {
   "cell_type": "code",
   "execution_count": 84,
   "metadata": {},
   "outputs": [],
   "source": [
    "class A:\n",
    "    def __init__(self, x):\n",
    "        self.x = x\n",
    "    def spam(self):\n",
    "        print(\"A.spam\")\n",
    "        return 1\n",
    "    "
   ]
  },
  {
   "cell_type": "code",
   "execution_count": 85,
   "metadata": {},
   "outputs": [],
   "source": [
    "a = A(42)"
   ]
  },
  {
   "cell_type": "code",
   "execution_count": 86,
   "metadata": {},
   "outputs": [
    {
     "data": {
      "text/plain": [
       "{'x': 42}"
      ]
     },
     "execution_count": 86,
     "metadata": {},
     "output_type": "execute_result"
    }
   ],
   "source": [
    "a.__dict__"
   ]
  },
  {
   "cell_type": "code",
   "execution_count": 87,
   "metadata": {},
   "outputs": [
    {
     "data": {
      "text/plain": [
       "42"
      ]
     },
     "execution_count": 87,
     "metadata": {},
     "output_type": "execute_result"
    }
   ],
   "source": [
    "getattr(a, 'x')"
   ]
  },
  {
   "cell_type": "code",
   "execution_count": 88,
   "metadata": {},
   "outputs": [
    {
     "name": "stdout",
     "output_type": "stream",
     "text": [
      "Proxy.__setattr__(name=_obj, value=<__main__.A object at 0x1073cf770>)\n"
     ]
    }
   ],
   "source": [
    "p = Proxy(a)"
   ]
  },
  {
   "cell_type": "code",
   "execution_count": 89,
   "metadata": {},
   "outputs": [
    {
     "data": {
      "text/plain": [
       "<__main__.A at 0x1073cf770>"
      ]
     },
     "execution_count": 89,
     "metadata": {},
     "output_type": "execute_result"
    }
   ],
   "source": [
    "p._obj"
   ]
  },
  {
   "cell_type": "code",
   "execution_count": 90,
   "metadata": {},
   "outputs": [
    {
     "name": "stdout",
     "output_type": "stream",
     "text": [
      "Proxy.__getattr__(name=spam)\n",
      "A.spam\n"
     ]
    },
    {
     "data": {
      "text/plain": [
       "1"
      ]
     },
     "execution_count": 90,
     "metadata": {},
     "output_type": "execute_result"
    }
   ],
   "source": [
    "spam_value = p.spam()\n",
    "spam_value"
   ]
  },
  {
   "cell_type": "code",
   "execution_count": 91,
   "metadata": {},
   "outputs": [
    {
     "name": "stdout",
     "output_type": "stream",
     "text": [
      "setting x = 42\n"
     ]
    }
   ],
   "source": [
    "p.x = 42"
   ]
  },
  {
   "cell_type": "code",
   "execution_count": 92,
   "metadata": {},
   "outputs": [
    {
     "name": "stdout",
     "output_type": "stream",
     "text": [
      "Proxy.__getattr__(name=x)\n"
     ]
    },
    {
     "data": {
      "text/plain": [
       "42"
      ]
     },
     "execution_count": 92,
     "metadata": {},
     "output_type": "execute_result"
    }
   ],
   "source": [
    "p.x"
   ]
  },
  {
   "cell_type": "code",
   "execution_count": 93,
   "metadata": {},
   "outputs": [
    {
     "data": {
      "text/plain": [
       "{'_obj': <__main__.A at 0x1073cf770>}"
      ]
     },
     "execution_count": 93,
     "metadata": {},
     "output_type": "execute_result"
    }
   ],
   "source": [
    "p.__dict__"
   ]
  },
  {
   "cell_type": "code",
   "execution_count": 95,
   "metadata": {},
   "outputs": [
    {
     "name": "stdout",
     "output_type": "stream",
     "text": [
      "setting y = 10\n"
     ]
    }
   ],
   "source": [
    "p.y=10"
   ]
  },
  {
   "cell_type": "code",
   "execution_count": 96,
   "metadata": {},
   "outputs": [
    {
     "name": "stdout",
     "output_type": "stream",
     "text": [
      "Proxy.__getattr__(name=y)\n"
     ]
    },
    {
     "data": {
      "text/plain": [
       "10"
      ]
     },
     "execution_count": 96,
     "metadata": {},
     "output_type": "execute_result"
    }
   ],
   "source": [
    "p.y"
   ]
  },
  {
   "cell_type": "code",
   "execution_count": 97,
   "metadata": {},
   "outputs": [
    {
     "data": {
      "text/plain": [
       "{'_obj': <__main__.A at 0x1073cf770>}"
      ]
     },
     "execution_count": 97,
     "metadata": {},
     "output_type": "execute_result"
    }
   ],
   "source": [
    "p.__dict__"
   ]
  },
  {
   "cell_type": "code",
   "execution_count": 98,
   "metadata": {},
   "outputs": [
    {
     "data": {
      "text/plain": [
       "{'x': 42, 'y': 10}"
      ]
     },
     "execution_count": 98,
     "metadata": {},
     "output_type": "execute_result"
    }
   ],
   "source": [
    "a.__dict__"
   ]
  },
  {
   "cell_type": "code",
   "execution_count": 99,
   "metadata": {},
   "outputs": [
    {
     "name": "stdout",
     "output_type": "stream",
     "text": [
      "Proxy.__setattr__(name=_obj, value=test)\n"
     ]
    }
   ],
   "source": [
    "p._obj = 'test'"
   ]
  },
  {
   "cell_type": "code",
   "execution_count": 100,
   "metadata": {},
   "outputs": [
    {
     "data": {
      "text/plain": [
       "{'_obj': 'test'}"
      ]
     },
     "execution_count": 100,
     "metadata": {},
     "output_type": "execute_result"
    }
   ],
   "source": [
    "p.__dict__"
   ]
  },
  {
   "cell_type": "code",
   "execution_count": 15,
   "metadata": {},
   "outputs": [],
   "source": [
    "\"\"\" \n",
    "새로운 클로스나, 인스턴스 속성 만들기.\n",
    "    - 새로운 종류의 인스턴스 속성을 만드려면, 그 기능을 디스크립터 클래스 형태로 정의\n",
    "\"\"\"\n",
    "\n",
    "class Integer:\n",
    "    def __init__(self, name):\n",
    "        self.name = name\n",
    "        \n",
    "    def __get__(self, instance, cls):\n",
    "        # print(\"__get__ Method Called\")\n",
    "        if instance is None:\n",
    "            print(\"instance is None!\")\n",
    "            return self\n",
    "        else:\n",
    "            # print(f\"instance: {instance}, class: {cls}\")\n",
    "            # print(f\"get : {self.name}\")\n",
    "            return instance.__dict__[self.name]\n",
    "        \n",
    "    def __set__(self, instance, value):\n",
    "        # print(\"__set__ Method Called\")\n",
    "        if not isinstance(value, int):\n",
    "            # 타입 확인 추가적 기능 추가\n",
    "            raise TypeError(\"Expected an int\")\n",
    "        # print(f\"instance: {instance}\")\n",
    "        # print(f\"set : {self.name} = {value}\")\n",
    "        instance.__dict__[self.name] = value\n",
    "        \n",
    "    def __delete__(self, instance):\n",
    "        del instance.__dict__[self.name]\n",
    "\n",
    "class Point:\n",
    "    x = Integer('x')\n",
    "    y = Integer('y')\n",
    "    \n",
    "    def __init__(self, x, y):\n",
    "        self.x = x\n",
    "        self.y = y\n",
    "        print(id(x) == id(self.x))"
   ]
  },
  {
   "cell_type": "code",
   "execution_count": 16,
   "metadata": {},
   "outputs": [
    {
     "name": "stdout",
     "output_type": "stream",
     "text": [
      "True\n"
     ]
    }
   ],
   "source": [
    "p = Point(2, 3)"
   ]
  },
  {
   "cell_type": "code",
   "execution_count": null,
   "metadata": {},
   "outputs": [],
   "source": []
  }
 ],
 "metadata": {
  "kernelspec": {
   "display_name": "Python 3",
   "language": "python",
   "name": "python3"
  },
  "language_info": {
   "codemirror_mode": {
    "name": "ipython",
    "version": 3
   },
   "file_extension": ".py",
   "mimetype": "text/x-python",
   "name": "python",
   "nbconvert_exporter": "python",
   "pygments_lexer": "ipython3",
   "version": "3.12.4"
  }
 },
 "nbformat": 4,
 "nbformat_minor": 2
}
